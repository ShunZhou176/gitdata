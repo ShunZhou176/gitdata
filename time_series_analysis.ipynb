{
 "cells": [
  {
   "cell_type": "code",
   "execution_count": 13,
   "metadata": {},
   "outputs": [],
   "source": [
    "#统计每天的出现频率\n",
    "def get_nums_day(timestamp_list):#timestamp_list为包含一组时间戳的列表，例如2018-04-16T15:40:32Z,
    "    nums_day = {}\n",
    "    for line in timestamp_list:\n",
    "        day = line[0:10]\n",
    "        if nums_day.has_key(day) == False:\n",
    "            nums_day[day] = 1\n",
    "        else:\n",
    "            nums_day[day] += 1\n",
    "    return sorted([[k, nums_day[k]] for k in nums_day], key = lambda x:x[0], reverse=True)"
   ]
  },
  {
   "cell_type": "code",
   "execution_count": 14,
   "metadata": {},
   "outputs": [],
   "source": [
    "#统计每月的出现频率\n",
    "def get_nums_month(timestamp_list):#timestamp_list为包含一组时间戳的列表，例如2018-04-16T15:40:32Z,
    "    nums_month = {}\n",
    "    for line in timestamp_list:\n",
    "        month = line[0:7]\n",
    "        if nums_month.has_key(month) == False:\n",
    "            nums_month[month] = 1\n",
    "        else:\n",
    "            nums_month[month] += 1\n",
    "    return sorted([[k, nums_month[k]] for k in nums_month], key = lambda x:x[0], reverse=True)"
   ]
  },
  {
   "cell_type": "code",
   "execution_count": 15,
   "metadata": {},
   "outputs": [],
   "source": [
    "#统计每季度的出现频率\n",
    "def get_nums_quart(timestamp_list):#timestamp_list为包含一组时间戳的列表，例如2018-04-16T15:40:32Z,
    "    nums_quart = {}\n",
    "    for line in timestamp_list:\n",
    "        m = int(line[5:7])\n",
    "        y = line[0:4]\n",
    "        if m < 4:\n",
    "            quart = y + 'q1'\n",
    "        elif m < 7:\n",
    "            quart = y + 'q2'\n",
    "        elif m < 10:\n",
    "            quart = y + 'q3'\n",
    "        else:\n",
    "            quart = y + 'q4'\n",
    "        if nums_quart.has_key(quart) == False:\n",
    "            nums_quart[quart] = 1\n",
    "        else:\n",
    "            nums_quart[quart] += 1\n",
    "    return sorted([[k, nums_quart[k]] for k in nums_quart], key = lambda x:x[0], reverse=True)"
   ]
  },
  {
   "cell_type": "code",
   "execution_count": 16,
   "metadata": {},
   "outputs": [],
   "source": [
    "#统计每年的出现频率\n",
    "def get_nums_year(timestamp_list):#timestamp_list为包含一组时间戳的列表，例如2018-04-16T15:40:32Z,
    "    nums_year = {}\n",
    "    for line in timestamp_list:\n",
    "        year = line[0:4]\n",
    "        if nums_year.has_key(year) == False:\n",
    "            nums_year[year] = 1\n",
    "        else:\n",
    "            nums_year[year] += 1\n",
    "    return sorted([[k, nums_year[k]] for k in nums_year], key = lambda x:x[0], reverse=True)"
   ]
  },
  {
   "cell_type": "code",
   "execution_count": 17,
   "metadata": {},
   "outputs": [],
   "source": [
    "def diff_list(data_list):#计算列表的一阶差分，列表格式为['年月日等'str,'数量'int]\n",
    "    pass"
   ]
  },
  {
   "cell_type": "code",
   "execution_count": 18,
   "metadata": {},
   "outputs": [
    {
     "data": {
      "text/plain": [
       "u'2018'"
      ]
     },
     "execution_count": 18,
     "metadata": {},
     "output_type": "execute_result"
    }
   ],
   "source": [
    "import json\n",
    "with open('D:/gitdata/example_data/apache_activemq/forks.txt','r') as f:\n",
    "    data = []\n",
    "    for line in f.readlines():\n",
    "        data.append(json.loads(line)['created_at'])\n",
    "data[0][0:4]"
   ]
  },
  {
   "cell_type": "code",
   "execution_count": 21,
   "metadata": {},
   "outputs": [],
   "source": [
    "data_list = get_nums_month(data)"
   ]
  },
  {
   "cell_type": "code",
   "execution_count": 22,
   "metadata": {},
   "outputs": [
    {
     "data": {
      "text/plain": [
       "[[u'2018-04', 16],\n",
       " [u'2018-03', 16],\n",
       " [u'2018-02', 14],\n",
       " [u'2018-01', 19],\n",
       " [u'2017-12', 21],\n",
       " [u'2017-11', 21],\n",
       " [u'2017-10', 21],\n",
       " [u'2017-09', 11],\n",
       " [u'2017-08', 21],\n",
       " [u'2017-07', 17],\n",
       " [u'2017-06', 21],\n",
       " [u'2017-05', 24],\n",
       " [u'2017-04', 16],\n",
       " [u'2017-03', 20],\n",
       " [u'2017-02', 15],\n",
       " [u'2017-01', 17],\n",
       " [u'2016-12', 17],\n",
       " [u'2016-11', 18],\n",
       " [u'2016-10', 17],\n",
       " [u'2016-09', 20],\n",
       " [u'2016-08', 23],\n",
       " [u'2016-07', 13],\n",
       " [u'2016-06', 22],\n",
       " [u'2016-05', 21],\n",
       " [u'2016-04', 21],\n",
       " [u'2016-03', 15],\n",
       " [u'2016-02', 14],\n",
       " [u'2016-01', 22],\n",
       " [u'2015-12', 15],\n",
       " [u'2015-11', 16],\n",
       " [u'2015-10', 5],\n",
       " [u'2015-09', 13],\n",
       " [u'2015-08', 16],\n",
       " [u'2015-07', 14],\n",
       " [u'2015-06', 21],\n",
       " [u'2015-05', 12],\n",
       " [u'2015-04', 15],\n",
       " [u'2015-03', 22],\n",
       " [u'2015-02', 9],\n",
       " [u'2015-01', 8],\n",
       " [u'2014-12', 9],\n",
       " [u'2014-11', 6],\n",
       " [u'2014-10', 16],\n",
       " [u'2014-09', 8],\n",
       " [u'2014-08', 9],\n",
       " [u'2014-07', 7],\n",
       " [u'2014-06', 8],\n",
       " [u'2014-05', 8],\n",
       " [u'2014-04', 6],\n",
       " [u'2014-03', 8],\n",
       " [u'2014-02', 4],\n",
       " [u'2014-01', 5],\n",
       " [u'2013-12', 4],\n",
       " [u'2013-11', 2],\n",
       " [u'2013-10', 2],\n",
       " [u'2013-09', 2],\n",
       " [u'2013-08', 3],\n",
       " [u'2013-07', 3],\n",
       " [u'2013-06', 5],\n",
       " [u'2013-05', 6],\n",
       " [u'2013-03', 2],\n",
       " [u'2013-02', 1],\n",
       " [u'2013-01', 1],\n",
       " [u'2012-12', 2],\n",
       " [u'2012-11', 1],\n",
       " [u'2012-10', 1],\n",
       " [u'2012-09', 1],\n",
       " [u'2012-04', 1],\n",
       " [u'2012-03', 1],\n",
       " [u'2012-02', 1],\n",
       " [u'2011-09', 1],\n",
       " [u'2011-07', 1],\n",
       " [u'2011-06', 2],\n",
       " [u'2011-03', 1],\n",
       " [u'2010-10', 2]]"
      ]
     },
     "execution_count": 22,
     "metadata": {},
     "output_type": "execute_result"
    }
   ],
   "source": [
    "data_list"
   ]
  },
  {
   "cell_type": "code",
   "execution_count": null,
   "metadata": {},
   "outputs": [],
   "source": []
  }
 ],
 "metadata": {
  "kernelspec": {
   "display_name": "Python 2",
   "language": "python",
   "name": "python2"
  },
  "language_info": {
   "codemirror_mode": {
    "name": "ipython",
    "version": 2
   },
   "file_extension": ".py",
   "mimetype": "text/x-python",
   "name": "python",
   "nbconvert_exporter": "python",
   "pygments_lexer": "ipython2",
   "version": "2.7.14"
  }
 },
 "nbformat": 4,
 "nbformat_minor": 1
}
