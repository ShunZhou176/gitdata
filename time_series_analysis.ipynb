{
 "cells": [
  {
   "cell_type": "code",
   "execution_count": 26,
   "metadata": {},
   "outputs": [],
   "source": [
    "#统计每天的出现频率\n",
    "def get_nums_day(timestamp_list):#timestamp_list为包含一组时间戳的列表，例如\"2018-04-16T15:40:32Z\"\\n\n",
    "    nums_day = {}\n",
    "    for line in timestamp_list:\n",
    "        day = line[1:11]\n",
    "        if nums_day.has_key(day) == False:\n",
    "            nums_day[day] = 1\n",
    "        else:\n",
    "            nums_day[day] += 1\n",
    "    return sorted([[k, nums_day[k]] for k in nums_day], key = lambda x:x[0], reverse=True)"
   ]
  },
  {
   "cell_type": "code",
   "execution_count": null,
   "metadata": {},
   "outputs": [],
   "source": [
    "#统计每月的出现频率\n",
    "def get_nums_month(timestamp_list):#timestamp_list为包含一组时间戳的列表，例如\"2018-04-16T15:40:32Z\"\\n\n",
    "    nums_month = {}\n",
    "    for line in timestamp_list:\n",
    "        month = line[1:8]\n",
    "        if nums_month.has_key(month) == False:\n",
    "            nums_month[month] = 1\n",
    "        else:\n",
    "            nums_month[month] += 1\n",
    "    return sorted([[k, nums_month[k]] for k in nums_month], key = lambda x:x[0], reverse=True)"
   ]
  },
  {
   "cell_type": "code",
   "execution_count": 18,
   "metadata": {},
   "outputs": [],
   "source": [
    "#统计每季度的出现频率\n",
    "def get_nums_quart(timestamp_list):#timestamp_list为包含一组时间戳的列表\n",
    "    nums_quart = {}\n",
    "    for line in timestamp_list:\n",
    "        m = int(line[6:8])\n",
    "        y = line[1:6]\n",
    "        if m < 4:\n",
    "            quart = y + 'q1'\n",
    "        elif m < 7:\n",
    "            quart = y + 'q2'\n",
    "        elif m < 10:\n",
    "            quart = y + 'q3'\n",
    "        else:\n",
    "            quart = y + 'q4'\n",
    "        if nums_quart.has_key(quart) == False:\n",
    "            nums_quart[quart] = 1\n",
    "        else:\n",
    "            nums_quart[quart] += 1\n",
    "    return sorted([[k, nums_quart[k]] for k in nums_quart], key = lambda x:x[0], reverse=True)"
   ]
  },
  {
   "cell_type": "code",
   "execution_count": 23,
   "metadata": {},
   "outputs": [],
   "source": [
    "#统计每年的出现频率\n",
    "def get_nums_year(timestamp_list):#timestamp_list为包含一组时间戳的列表\n",
    "    nums_year = {}\n",
    "    for line in timestamp_list:\n",
    "        year = line[1:5]\n",
    "        if nums_year.has_key(year) == False:\n",
    "            nums_year[year] = 1\n",
    "        else:\n",
    "            nums_year[year] += 1\n",
    "    return sorted([[k, nums_year[k]] for k in nums_year], key = lambda x:x[0], reverse=True)"
   ]
  },
  {
   "cell_type": "code",
   "execution_count": null,
   "metadata": {},
   "outputs": [],
   "source": [
    "def diff_list(data_list):#计算列表的一阶差分，列表格式为['年月日等'str,'数量'int]\n",
    "    import "
   ]
  },
  {
   "cell_type": "code",
   "execution_count": 22,
   "metadata": {},
   "outputs": [
    {
     "data": {
      "text/plain": [
       "'\"2018-04-16T15:40:32Z\"\\n'"
      ]
     },
     "execution_count": 22,
     "metadata": {},
     "output_type": "execute_result"
    }
   ],
   "source": [
    "with open('C:/Users/jiangdanni/gitdata/gitdata/data/alibaba_fastjson/forks.json','r') as f:\n",
    "    data = []\n",
    "    for line in f.readlines():\n",
    "        data.append(line)\n",
    "data[0]"
   ]
  },
  {
   "cell_type": "code",
   "execution_count": 32,
   "metadata": {},
   "outputs": [],
   "source": [
    "data_list = get_nums_year(data)"
   ]
  },
  {
   "cell_type": "code",
   "execution_count": 33,
   "metadata": {},
   "outputs": [],
   "source": [
    "import pandas as pd\n",
    "\n",
    "df = pd.DataFrame(data_list)"
   ]
  },
  {
   "cell_type": "code",
   "execution_count": 36,
   "metadata": {},
   "outputs": [
    {
     "data": {
      "text/html": [
       "<div>\n",
       "<style scoped>\n",
       "    .dataframe tbody tr th:only-of-type {\n",
       "        vertical-align: middle;\n",
       "    }\n",
       "\n",
       "    .dataframe tbody tr th {\n",
       "        vertical-align: top;\n",
       "    }\n",
       "\n",
       "    .dataframe thead th {\n",
       "        text-align: right;\n",
       "    }\n",
       "</style>\n",
       "<table border=\"1\" class=\"dataframe\">\n",
       "  <thead>\n",
       "    <tr style=\"text-align: right;\">\n",
       "      <th></th>\n",
       "      <th>0</th>\n",
       "      <th>1</th>\n",
       "    </tr>\n",
       "  </thead>\n",
       "  <tbody>\n",
       "    <tr>\n",
       "      <th>0</th>\n",
       "      <td>2018</td>\n",
       "      <td>315</td>\n",
       "    </tr>\n",
       "    <tr>\n",
       "      <th>1</th>\n",
       "      <td>2017</td>\n",
       "      <td>1289</td>\n",
       "    </tr>\n",
       "    <tr>\n",
       "      <th>2</th>\n",
       "      <td>2016</td>\n",
       "      <td>1120</td>\n",
       "    </tr>\n",
       "    <tr>\n",
       "      <th>3</th>\n",
       "      <td>2015</td>\n",
       "      <td>752</td>\n",
       "    </tr>\n",
       "    <tr>\n",
       "      <th>4</th>\n",
       "      <td>2014</td>\n",
       "      <td>355</td>\n",
       "    </tr>\n",
       "    <tr>\n",
       "      <th>5</th>\n",
       "      <td>2013</td>\n",
       "      <td>173</td>\n",
       "    </tr>\n",
       "    <tr>\n",
       "      <th>6</th>\n",
       "      <td>2012</td>\n",
       "      <td>54</td>\n",
       "    </tr>\n",
       "    <tr>\n",
       "      <th>7</th>\n",
       "      <td>2011</td>\n",
       "      <td>2</td>\n",
       "    </tr>\n",
       "  </tbody>\n",
       "</table>\n",
       "</div>"
      ],
      "text/plain": [
       "      0     1\n",
       "0  2018   315\n",
       "1  2017  1289\n",
       "2  2016  1120\n",
       "3  2015   752\n",
       "4  2014   355\n",
       "5  2013   173\n",
       "6  2012    54\n",
       "7  2011     2"
      ]
     },
     "execution_count": 36,
     "metadata": {},
     "output_type": "execute_result"
    }
   ],
   "source": [
    "df"
   ]
  },
  {
   "cell_type": "code",
   "execution_count": 37,
   "metadata": {
    "scrolled": true
   },
   "outputs": [
    {
     "data": {
      "text/html": [
       "<div>\n",
       "<style scoped>\n",
       "    .dataframe tbody tr th:only-of-type {\n",
       "        vertical-align: middle;\n",
       "    }\n",
       "\n",
       "    .dataframe tbody tr th {\n",
       "        vertical-align: top;\n",
       "    }\n",
       "\n",
       "    .dataframe thead th {\n",
       "        text-align: right;\n",
       "    }\n",
       "</style>\n",
       "<table border=\"1\" class=\"dataframe\">\n",
       "  <thead>\n",
       "    <tr style=\"text-align: right;\">\n",
       "      <th></th>\n",
       "      <th>0</th>\n",
       "      <th>1</th>\n",
       "    </tr>\n",
       "  </thead>\n",
       "  <tbody>\n",
       "    <tr>\n",
       "      <th>1</th>\n",
       "      <td>2017</td>\n",
       "      <td>1289</td>\n",
       "    </tr>\n",
       "    <tr>\n",
       "      <th>2</th>\n",
       "      <td>2016</td>\n",
       "      <td>1120</td>\n",
       "    </tr>\n",
       "    <tr>\n",
       "      <th>3</th>\n",
       "      <td>2015</td>\n",
       "      <td>752</td>\n",
       "    </tr>\n",
       "    <tr>\n",
       "      <th>4</th>\n",
       "      <td>2014</td>\n",
       "      <td>355</td>\n",
       "    </tr>\n",
       "    <tr>\n",
       "      <th>5</th>\n",
       "      <td>2013</td>\n",
       "      <td>173</td>\n",
       "    </tr>\n",
       "    <tr>\n",
       "      <th>6</th>\n",
       "      <td>2012</td>\n",
       "      <td>54</td>\n",
       "    </tr>\n",
       "    <tr>\n",
       "      <th>7</th>\n",
       "      <td>2011</td>\n",
       "      <td>2</td>\n",
       "    </tr>\n",
       "  </tbody>\n",
       "</table>\n",
       "</div>"
      ],
      "text/plain": [
       "      0     1\n",
       "1  2017  1289\n",
       "2  2016  1120\n",
       "3  2015   752\n",
       "4  2014   355\n",
       "5  2013   173\n",
       "6  2012    54\n",
       "7  2011     2"
      ]
     },
     "execution_count": 37,
     "metadata": {},
     "output_type": "execute_result"
    }
   ],
   "source": [
    "df2 = df.drop(0)"
   ]
  },
  {
   "cell_type": "code",
   "execution_count": null,
   "metadata": {},
   "outputs": [],
   "source": []
  }
 ],
 "metadata": {
  "kernelspec": {
   "display_name": "Python 2",
   "language": "python",
   "name": "python2"
  },
  "language_info": {
   "codemirror_mode": {
    "name": "ipython",
    "version": 2
   },
   "file_extension": ".py",
   "mimetype": "text/x-python",
   "name": "python",
   "nbconvert_exporter": "python",
   "pygments_lexer": "ipython2",
   "version": "2.7.14"
  }
 },
 "nbformat": 4,
 "nbformat_minor": 2
}
