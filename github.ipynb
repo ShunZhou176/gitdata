{
 "cells": [
  {
   "cell_type": "code",
   "execution_count": 39,
   "metadata": {},
   "outputs": [
    {
     "name": "stdout",
     "output_type": "stream",
     "text": [
      "4060\n"
     ]
    }
   ],
   "source": [
    "import os\n",
    "\n"
   ]
  },
  {
   "cell_type": "code",
   "execution_count": 66,
   "metadata": {},
   "outputs": [],
   "source": [
    "def get_forks_month(data_path):\n",
    "    forks_month = {}\n",
    "    with open(data_path,'r') as f:\n",
    "        for line in f:\n",
    "            if forks_month.has_key(line[1:11]) == False:\n",
    "                forks_month[line[1:11]] = 1\n",
    "            else:\n",
    "                num = forks_month[line[1:11]]+1\n",
    "                forks_month[line[1:11]] = num\n",
    "    return sorted(forks_month.items(),key = lambda x:x[0],reverse = True)\n"
   ]
  },
  {
   "cell_type": "code",
   "execution_count": null,
   "metadata": {},
   "outputs": [],
   "source": []
  },
  {
   "cell_type": "code",
   "execution_count": 115,
   "metadata": {},
   "outputs": [
    {
     "name": "stdout",
     "output_type": "stream",
     "text": [
      "<type 'list'>\n"
     ]
    }
   ],
   "source": [
    "#def get_forks_quarter(data_path):\n",
    "month = get_forks_month('C:/Users/jiangdanni/gitdata/data/alibaba_fastjson/forks.json')\n",
    "# for n in range(len(month)):\n",
    "#     if month[n][0][5:7]<4:\n",
    "#         month[n]= month[n][0][:5]+'q1'\n",
    "#         print month[n][0][5:7]\n",
    "#     elif month[n][0][5:7]<7:\n",
    "#         month[n][0] = month[n][0][:5]+'q2'\n",
    "#     elif data[0][5:7]<10:\n",
    "#         month[n][0] = month[n][0][:5]+'q3'\n",
    "#     else:\n",
    "#         month[n][0] = month[n][0][:5]+'q4'\n",
    "print type(month)\n"
   ]
  },
  {
   "cell_type": "code",
   "execution_count": 67,
   "metadata": {},
   "outputs": [],
   "source": [
    "data = get_forks_month('C:/Users/jiangdanni/gitdata/data/alibaba_fastjson/forks.json')"
   ]
  },
  {
   "cell_type": "code",
   "execution_count": 89,
   "metadata": {},
   "outputs": [],
   "source": [
    "if data[0][5:7]<4:\n",
    "        time = data[0][:5]+'q1'"
   ]
  },
  {
   "cell_type": "code",
   "execution_count": null,
   "metadata": {},
   "outputs": [],
   "source": []
  }
 ],
 "metadata": {
  "kernelspec": {
   "display_name": "Python 2",
   "language": "python",
   "name": "python2"
  },
  "language_info": {
   "codemirror_mode": {
    "name": "ipython",
    "version": 2
   },
   "file_extension": ".py",
   "mimetype": "text/x-python",
   "name": "python",
   "nbconvert_exporter": "python",
   "pygments_lexer": "ipython2",
   "version": "2.7.14"
  }
 },
 "nbformat": 4,
 "nbformat_minor": 2
}
