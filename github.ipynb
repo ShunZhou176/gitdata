{
 "cells": [
  {
   "cell_type": "code",
   "execution_count": 8,
   "metadata": {},
   "outputs": [],
   "source": [
    "import os"
   ]
  },
  {
   "cell_type": "code",
   "execution_count": 9,
   "metadata": {
    "collapsed": true
   },
   "outputs": [],
   "source": [
    "def get_forks_month(data_path):\n",
    "    forks_month = {}\n",
    "    with open(data_path,'r') as f:\n",
    "        for line in f:\n",
    "            if forks_month.has_key(line[1:8]) == False:\n",
    "                forks_month[line[1:8]] = 1\n",
    "            else:\n",
    "                num = forks_month[line[1:8]]+1\n",
    "                forks_month[line[1:8]] = num\n",
    "    return sorted([[k, forks_month[k]] for k in forks_month], key = lambda x:x[0], reverse=True)"
   ]
  },
  {
   "cell_type": "code",
   "execution_count": 13,
   "metadata": {},
   "outputs": [],
   "source": [
    "def get_forks_quart(data_path):\n",
    "    forks_quart = {}\n",
    "    with open(data_path,'r') as f:\n",
    "        for line in f:\n",
    "            m = int(line[6:8])\n",
    "            if m < 4:\n",
    "                line = line[1:6] + 'q1'\n",
    "            elif m < 7:\n",
    "                line = line[1:6] + 'q2'\n",
    "            elif m < 10:\n",
    "                line = line[1:6] + 'q3'\n",
    "            else:\n",
    "                line = line[1:6] + 'q4'\n",
    "            if forks_quart.has_key(line) == False:\n",
    "                forks_quart[line] = 1\n",
    "            else:\n",
    "                forks_quart[line] += 1\n",
    "    return sorted([[k, forks_quart[k]] for k in forks_quart], key = lambda x:x[0], reverse=True)"
   ]
  },
  {
   "cell_type": "code",
   "execution_count": 18,
   "metadata": {},
   "outputs": [
    {
     "data": {
      "text/plain": [
       "[['2018-04', 56],\n",
       " ['2018-03', 110],\n",
       " ['2018-02', 67],\n",
       " ['2018-01', 82],\n",
       " ['2017-12', 119],\n",
       " ['2017-11', 110],\n",
       " ['2017-10', 103],\n",
       " ['2017-09', 113],\n",
       " ['2017-08', 116],\n",
       " ['2017-07', 114],\n",
       " ['2017-06', 108],\n",
       " ['2017-05', 72],\n",
       " ['2017-04', 106],\n",
       " ['2017-03', 168],\n",
       " ['2017-02', 79],\n",
       " ['2017-01', 81],\n",
       " ['2016-12', 89],\n",
       " ['2016-11', 95],\n",
       " ['2016-10', 74],\n",
       " ['2016-09', 88],\n",
       " ['2016-08', 125],\n",
       " ['2016-07', 97],\n",
       " ['2016-06', 81],\n",
       " ['2016-05', 120],\n",
       " ['2016-04', 116],\n",
       " ['2016-03', 98],\n",
       " ['2016-02', 50],\n",
       " ['2016-01', 87],\n",
       " ['2015-12', 71],\n",
       " ['2015-11', 77],\n",
       " ['2015-10', 59],\n",
       " ['2015-09', 55],\n",
       " ['2015-08', 90],\n",
       " ['2015-07', 74],\n",
       " ['2015-06', 50],\n",
       " ['2015-05', 75],\n",
       " ['2015-04', 44],\n",
       " ['2015-03', 58],\n",
       " ['2015-02', 21],\n",
       " ['2015-01', 78],\n",
       " ['2014-12', 45],\n",
       " ['2014-11', 38],\n",
       " ['2014-10', 44],\n",
       " ['2014-09', 45],\n",
       " ['2014-08', 26],\n",
       " ['2014-07', 27],\n",
       " ['2014-06', 17],\n",
       " ['2014-05', 24],\n",
       " ['2014-04', 26],\n",
       " ['2014-03', 30],\n",
       " ['2014-02', 17],\n",
       " ['2014-01', 16],\n",
       " ['2013-12', 16],\n",
       " ['2013-11', 13],\n",
       " ['2013-10', 17],\n",
       " ['2013-09', 14],\n",
       " ['2013-08', 19],\n",
       " ['2013-07', 35],\n",
       " ['2013-06', 16],\n",
       " ['2013-05', 9],\n",
       " ['2013-04', 8],\n",
       " ['2013-03', 11],\n",
       " ['2013-02', 4],\n",
       " ['2013-01', 11],\n",
       " ['2012-12', 22],\n",
       " ['2012-11', 7],\n",
       " ['2012-10', 6],\n",
       " ['2012-09', 3],\n",
       " ['2012-08', 4],\n",
       " ['2012-07', 8],\n",
       " ['2012-06', 2],\n",
       " ['2012-03', 1],\n",
       " ['2012-02', 1],\n",
       " ['2011-11', 2]]"
      ]
     },
     "execution_count": 18,
     "metadata": {},
     "output_type": "execute_result"
    }
   ],
   "source": [
    "get_forks_month('./data/alibaba_fastjson/forks.json')"
   ]
  },
  {
   "cell_type": "code",
   "execution_count": null,
   "metadata": {
    "collapsed": true
   },
   "outputs": [],
   "source": []
  }
 ],
 "metadata": {
  "kernelspec": {
   "display_name": "Python 2",
   "language": "python",
   "name": "python2"
  },
  "language_info": {
   "codemirror_mode": {
    "name": "ipython",
    "version": 2
   },
   "file_extension": ".py",
   "mimetype": "text/x-python",
   "name": "python",
   "nbconvert_exporter": "python",
   "pygments_lexer": "ipython2",
   "version": "2.7.13"
  }
 },
 "nbformat": 4,
 "nbformat_minor": 2
}
